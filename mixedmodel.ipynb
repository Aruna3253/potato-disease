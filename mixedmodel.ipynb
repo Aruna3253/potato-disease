{
 "cells": [
  {
   "cell_type": "code",
   "execution_count": 1,
   "id": "552c8257-6583-4c54-bac3-bfdd9060d1bf",
   "metadata": {},
   "outputs": [],
   "source": [
    "import tensorflow as tf\n",
    "from tensorflow.keras import models, layers\n",
    "import numpy as np\n",
    "import matplotlib.pyplot as plt"
   ]
  },
  {
   "cell_type": "code",
   "execution_count": 2,
   "id": "f605c346-7c43-4e80-93b8-39b2b6527877",
   "metadata": {},
   "outputs": [],
   "source": [
    "# Constants\n",
    "BATCH_SIZE = 32\n",
    "IMAGE_SIZE = 256\n",
    "CHANNELS = 3\n",
    "EPOCHS = 10"
   ]
  },
  {
   "cell_type": "code",
   "execution_count": 3,
   "id": "e1cdc737-b5e0-4201-ba07-d6e8c09947e5",
   "metadata": {},
   "outputs": [
    {
     "name": "stdout",
     "output_type": "stream",
     "text": [
      "Found 2152 files belonging to 3 classes.\n",
      "Classes: ['Potato___Early_blight', 'Potato___Late_blight', 'Potato___healthy']\n"
     ]
    }
   ],
   "source": [
    "# Import Dataset\n",
    "dataset = tf.keras.preprocessing.image_dataset_from_directory(\n",
    "    \"PlantVillage\",\n",
    "    seed=123,\n",
    "    shuffle=True,\n",
    "    image_size=(IMAGE_SIZE, IMAGE_SIZE),\n",
    "    batch_size=BATCH_SIZE\n",
    ")\n",
    "\n",
    "class_names = dataset.class_names\n",
    "print(\"Classes:\", class_names)\n"
   ]
  },
  {
   "cell_type": "code",
   "execution_count": 8,
   "id": "e27b95a3-0d86-49dd-81c3-9275a680797c",
   "metadata": {},
   "outputs": [],
   "source": [
    "# Split Dataset\n",
    "def get_dataset_partitions_tf(ds, train_split=0.8, val_split=0.1, test_split=0.1, shuffle=True, shuffle_size=10000):\n",
    "    assert (train_split + test_split + val_split) == 1\n",
    "\n",
    "    ds_size = len(ds)\n",
    "    if shuffle:\n",
    "        ds = ds.shuffle(shuffle_size, seed=12)\n",
    "    \n",
    "    train_size = int(train_split * ds_size)\n",
    "    val_size = int(val_split * ds_size)\n",
    "\n",
    "    train_ds = ds.take(train_size)\n",
    "    val_ds = ds.skip(train_size).take(val_size)\n",
    "    test_ds = ds.skip(train_size).skip(val_size)\n",
    "    \n",
    "    return train_ds, val_ds, test_ds\n",
    "\n",
    "train_ds, val_ds, test_ds = get_dataset_partitions_tf(dataset)\n"
   ]
  },
  {
   "cell_type": "code",
   "execution_count": 9,
   "id": "d322d0ee-480c-4553-ab49-371a5e8d58f2",
   "metadata": {},
   "outputs": [],
   "source": [
    "# Preprocessing\n",
    "resize_and_rescale = tf.keras.Sequential([\n",
    "    layers.Resizing(IMAGE_SIZE, IMAGE_SIZE),\n",
    "    layers.Rescaling(1./255),\n",
    "])\n",
    "\n",
    "data_augmentation = tf.keras.Sequential([\n",
    "    layers.RandomFlip(\"horizontal_and_vertical\"),\n",
    "    layers.RandomRotation(0.2),\n",
    "])\n",
    "\n",
    "train_ds = train_ds.map(\n",
    "    lambda x, y: (data_augmentation(x, training=True), y)\n",
    ").prefetch(buffer_size=tf.data.AUTOTUNE)\n",
    "\n",
    "val_ds = val_ds.cache().shuffle(1000).prefetch(buffer_size=tf.data.AUTOTUNE)\n",
    "test_ds = test_ds.cache().shuffle(1000).prefetch(buffer_size=tf.data.AUTOTUNE)"
   ]
  },
  {
   "cell_type": "code",
   "execution_count": 24,
   "id": "d57da9df-fe10-4ba4-a865-6a378c519822",
   "metadata": {},
   "outputs": [],
   "source": [
    "@register_keras_serializable() \n",
    "class CustomConv2D(tf.keras.layers.Layer):\n",
    "    \"\"\"Manually implemented Convolution operation.\"\"\"\n",
    "    def __init__(self, filters, kernel_size, strides=(1, 1), padding='valid', **kwargs):\n",
    "        super(CustomConv2D, self).__init__(**kwargs)\n",
    "        self.filters = filters\n",
    "        self.kernel_size = kernel_size\n",
    "        self.strides = strides\n",
    "        self.padding = padding\n",
    "\n",
    "    def build(self, input_shape):\n",
    "        self.conv_filter = self.add_weight(\n",
    "            name=\"conv_filter\", \n",
    "            shape=(self.kernel_size, self.kernel_size, input_shape[-1], self.filters),\n",
    "            initializer=\"random_normal\"\n",
    "        )\n",
    "        self.bias = self.add_weight(\n",
    "            name=\"bias\", \n",
    "            shape=(self.filters,),\n",
    "            initializer=\"zeros\"\n",
    "        )\n",
    "\n",
    "    def call(self, input_tensor):\n",
    "        conv_output = tf.nn.conv2d(\n",
    "            input_tensor, \n",
    "            self.conv_filter, \n",
    "            strides=[1, *self.strides, 1], \n",
    "            padding=self.padding.upper()\n",
    "        )\n",
    "        return tf.nn.relu(conv_output + self.bias)\n",
    "\n",
    "    def get_config(self):\n",
    "        config = super(CustomConv2D, self).get_config()\n",
    "        config.update({\n",
    "            \"filters\": self.filters,\n",
    "            \"kernel_size\": self.kernel_size,\n",
    "            \"strides\": self.strides,\n",
    "            \"padding\": self.padding,\n",
    "        })\n",
    "        return config"
   ]
  },
  {
   "cell_type": "code",
   "execution_count": 25,
   "id": "8eb4a90c-0ca1-4b1a-b3cb-787e9690ac02",
   "metadata": {},
   "outputs": [],
   "source": [
    "# Mixed Model\n",
    "from tensorflow.keras.saving import register_keras_serializable\n",
    "@register_keras_serializable()\n",
    "class MixedCNN(tf.keras.Model):\n",
    "    def __init__(self, num_classes, **kwargs):\n",
    "        super(MixedCNN, self).__init__(**kwargs)\n",
    "        \n",
    "        # Layers\n",
    "        self.resize_and_rescale = resize_and_rescale\n",
    "        self.data_augmentation = data_augmentation\n",
    "        self.flatten = layers.Flatten()\n",
    "        self.dense1 = layers.Dense(64, activation='relu')\n",
    "        self.dense2 = layers.Dense(num_classes, activation='softmax')\n",
    "        self.custom_conv = CustomConv2D(filters=32, kernel_size=3, strides=(1, 1), padding='same')\n",
    "        \n",
    "    def call(self, inputs):\n",
    "        # Resize & Normalize\n",
    "        x = self.resize_and_rescale(inputs)\n",
    "        x = self.data_augmentation(x)\n",
    "\n",
    "        # Manual Convolution Layer\n",
    "        x = self.custom_conv(x)\n",
    "        \n",
    "        # Max Pooling\n",
    "        x = tf.nn.max_pool2d(x, ksize=2, strides=2, padding='SAME')\n",
    "        \n",
    "        # Library-Based Layers\n",
    "        x = self.flatten(x)\n",
    "        x = self.dense1(x)\n",
    "        return self.dense2(x)\n",
    "        \n",
    "    def get_config(self):\n",
    "        config = super(MixedCNN, self).get_config()\n",
    "        config.update({\n",
    "            \"num_classes\": self.dense2.units,\n",
    "        })\n",
    "        return config\n",
    "        "
   ]
  },
  {
   "cell_type": "code",
   "execution_count": 26,
   "id": "b30b999e-6201-4a95-af3c-e9b733e8dc92",
   "metadata": {},
   "outputs": [],
   "source": [
    "# Initialize Model\n",
    "# Initialize Model\n",
    "model = MixedCNN(num_classes=len(class_names))\n",
    "model.compile(optimizer='adam', \n",
    "              loss=tf.keras.losses.SparseCategoricalCrossentropy(from_logits=False), \n",
    "              metrics=['accuracy'])\n"
   ]
  },
  {
   "cell_type": "code",
   "execution_count": 27,
   "id": "24fd72d0-e1df-470f-b746-28c6b8e208ac",
   "metadata": {},
   "outputs": [
    {
     "name": "stdout",
     "output_type": "stream",
     "text": [
      "Epoch 1/10\n",
      "\u001b[1m54/54\u001b[0m \u001b[32m━━━━━━━━━━━━━━━━━━━━\u001b[0m\u001b[37m\u001b[0m \u001b[1m211s\u001b[0m 3s/step - accuracy: 0.5326 - loss: 4.9551 - val_accuracy: 0.8125 - val_loss: 0.3966\n",
      "Epoch 2/10\n",
      "\u001b[1m54/54\u001b[0m \u001b[32m━━━━━━━━━━━━━━━━━━━━\u001b[0m\u001b[37m\u001b[0m \u001b[1m345s\u001b[0m 4s/step - accuracy: 0.8426 - loss: 0.3887 - val_accuracy: 0.8802 - val_loss: 0.2790\n",
      "Epoch 3/10\n",
      "\u001b[1m54/54\u001b[0m \u001b[32m━━━━━━━━━━━━━━━━━━━━\u001b[0m\u001b[37m\u001b[0m \u001b[1m187s\u001b[0m 2s/step - accuracy: 0.8603 - loss: 0.3107 - val_accuracy: 0.8542 - val_loss: 0.3345\n",
      "Epoch 4/10\n",
      "\u001b[1m54/54\u001b[0m \u001b[32m━━━━━━━━━━━━━━━━━━━━\u001b[0m\u001b[37m\u001b[0m \u001b[1m247s\u001b[0m 4s/step - accuracy: 0.8693 - loss: 0.3290 - val_accuracy: 0.9323 - val_loss: 0.1747\n",
      "Epoch 5/10\n",
      "\u001b[1m54/54\u001b[0m \u001b[32m━━━━━━━━━━━━━━━━━━━━\u001b[0m\u001b[37m\u001b[0m \u001b[1m193s\u001b[0m 3s/step - accuracy: 0.9249 - loss: 0.2091 - val_accuracy: 0.9531 - val_loss: 0.1705\n",
      "Epoch 6/10\n",
      "\u001b[1m54/54\u001b[0m \u001b[32m━━━━━━━━━━━━━━━━━━━━\u001b[0m\u001b[37m\u001b[0m \u001b[1m191s\u001b[0m 2s/step - accuracy: 0.9284 - loss: 0.1875 - val_accuracy: 0.9635 - val_loss: 0.1362\n",
      "Epoch 7/10\n",
      "\u001b[1m54/54\u001b[0m \u001b[32m━━━━━━━━━━━━━━━━━━━━\u001b[0m\u001b[37m\u001b[0m \u001b[1m220s\u001b[0m 2s/step - accuracy: 0.9290 - loss: 0.1832 - val_accuracy: 0.9531 - val_loss: 0.1641\n",
      "Epoch 8/10\n",
      "\u001b[1m54/54\u001b[0m \u001b[32m━━━━━━━━━━━━━━━━━━━━\u001b[0m\u001b[37m\u001b[0m \u001b[1m239s\u001b[0m 3s/step - accuracy: 0.9297 - loss: 0.1871 - val_accuracy: 0.9688 - val_loss: 0.1344\n",
      "Epoch 9/10\n",
      "\u001b[1m54/54\u001b[0m \u001b[32m━━━━━━━━━━━━━━━━━━━━\u001b[0m\u001b[37m\u001b[0m \u001b[1m248s\u001b[0m 2s/step - accuracy: 0.9385 - loss: 0.1653 - val_accuracy: 0.9531 - val_loss: 0.1280\n",
      "Epoch 10/10\n",
      "\u001b[1m54/54\u001b[0m \u001b[32m━━━━━━━━━━━━━━━━━━━━\u001b[0m\u001b[37m\u001b[0m \u001b[1m309s\u001b[0m 5s/step - accuracy: 0.9434 - loss: 0.1526 - val_accuracy: 0.9688 - val_loss: 0.0769\n"
     ]
    }
   ],
   "source": [
    "# Training\n",
    "history = model.fit(\n",
    "    train_ds,\n",
    "    epochs=EPOCHS,\n",
    "    validation_data=val_ds,\n",
    "    verbose=1\n",
    ")"
   ]
  },
  {
   "cell_type": "code",
   "execution_count": 28,
   "id": "fd2f18b3-9511-4679-9033-77ca3d8c2fe1",
   "metadata": {},
   "outputs": [
    {
     "name": "stdout",
     "output_type": "stream",
     "text": [
      "\u001b[1m8/8\u001b[0m \u001b[32m━━━━━━━━━━━━━━━━━━━━\u001b[0m\u001b[37m\u001b[0m \u001b[1m9s\u001b[0m 977ms/step - accuracy: 0.9747 - loss: 0.1502\n",
      "Test Accuracy: 0.96\n"
     ]
    }
   ],
   "source": [
    "test_loss, test_acc = model.evaluate(test_ds)\n",
    "print(f\"Test Accuracy: {test_acc:.2f}\")"
   ]
  },
  {
   "cell_type": "code",
   "execution_count": 29,
   "id": "06eebf66-707c-49a5-82ca-b366125b80ff",
   "metadata": {},
   "outputs": [
    {
     "data": {
      "image/png": "[encoded data removed]",
      "text/plain": [
       "<Figure size 640x480 with 1 Axes>"
      ]
     },
     "metadata": {},
     "output_type": "display_data"
    }
   ],
   "source": [
    "plt.plot(history.history['accuracy'], label='Accuracy')\n",
    "plt.plot(history.history['val_accuracy'], label='Validation Accuracy')\n",
    "plt.xlabel('Epochs')\n",
    "plt.ylabel('Accuracy')\n",
    "plt.legend()\n",
    "plt.show()"
   ]
  },
  {
   "cell_type": "code",
   "execution_count": 32,
   "id": "296852a4-e59e-44e6-ba15-e145cc97e968",
   "metadata": {},
   "outputs": [
    {
     "name": "stdout",
     "output_type": "stream",
     "text": [
      "Model saved successfully!\n"
     ]
    }
   ],
   "source": [
    "# Now save the model\n",
    "model.save('model.keras')\n",
    "print(\"Model saved successfully!\")"
   ]
  },
  {
   "cell_type": "code",
   "execution_count": 26,
   "id": "d3eb2e31-5177-4d60-b87e-d3ab01122504",
   "metadata": {
    "scrolled": true
   },
   "outputs": [
    {
     "name": "stdout",
     "output_type": "stream",
     "text": [
      "Output shape of CustomConv2D: (32, 256, 256, 32)\n",
      "Number of parameters in CustomConv2D: 896\n"
     ]
    }
   ],
   "source": [
    "# # Create a test input tensor\n",
    "# test_input = tf.random.normal((BATCH_SIZE, IMAGE_SIZE, IMAGE_SIZE, CHANNELS))\n",
    "\n",
    "# # Instantiate the custom layer\n",
    "# custom_conv_layer = CustomConv2D(filters=32, kernel_size=3, strides=(1, 1), padding='same')\n",
    "\n",
    "# # Build the layer to initialize weights\n",
    "# custom_conv_layer.build(test_input.shape)\n",
    "\n",
    "# # Pass the test input through the custom layer\n",
    "# output = custom_conv_layer(test_input)\n",
    "\n",
    "# # Print the output shape\n",
    "# print(\"Output shape of CustomConv2D:\", output.shape)\n",
    "\n",
    "# # Print the number of parameters in the custom layer\n",
    "# num_params = custom_conv_layer.count_params()\n",
    "# print(\"Number of parameters in CustomConv2D:\", num_params)"
   ]
  },
  {
   "cell_type": "code",
   "execution_count": 23,
   "id": "a7edf844-944e-4340-b411-a19bb335f4dd",
   "metadata": {},
   "outputs": [
    {
     "name": "stdout",
     "output_type": "stream",
     "text": [
      "{'Custom>CustomConv2D': <class '__main__.CustomConv2D'>, 'Custom>MixedCNN': <class '__main__.MixedCNN'>, 'CustomConv2D': <class '__main__.CustomConv2D'>, 'MixedCNN': <class '__main__.MixedCNN'>}\n"
     ]
    }
   ],
   "source": [
    "# from tensorflow.keras.saving import register_keras_serializable\n",
    "\n",
    "# print(get_custom_objects())\n"
   ]
  },
  {
   "cell_type": "code",
   "execution_count": null,
   "id": "caa0994b-bacf-436e-a43f-34fc0a2cb93d",
   "metadata": {},
   "outputs": [],
   "source": []
  }
 ],
 "metadata": {
  "kernelspec": {
   "display_name": "Python 3 (ipykernel)",
   "language": "python",
   "name": "python3"
  },
  "language_info": {
   "codemirror_mode": {
    "name": "ipython",
    "version": 3
   },
   "file_extension": ".py",
   "mimetype": "text/x-python",
   "name": "python",
   "nbconvert_exporter": "python",
   "pygments_lexer": "ipython3",
   "version": "3.12.1"
  }
 },
 "nbformat": 4,
 "nbformat_minor": 5
}
